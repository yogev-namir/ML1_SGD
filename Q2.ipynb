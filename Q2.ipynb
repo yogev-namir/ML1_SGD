{
 "cells": [
  {
   "cell_type": "code",
   "execution_count": 135,
   "outputs": [],
   "source": [
    "import numpy as np\n",
    "import matplotlib.pyplot as plt\n",
    "from sklearn.datasets import load_iris"
   ],
   "metadata": {
    "collapsed": false
   }
  },
  {
   "cell_type": "code",
   "execution_count": 136,
   "outputs": [],
   "source": [
    "np.random.seed(2)\n",
    "def SGD(X, y, lam=0, epochs=1000, l_rate=0.01, sgd_type=\"practical\"):\n",
    "    m = X.shape[0]\n",
    "    d = X.shape[1]\n",
    "    w = np.random.uniform(size=d)\n",
    "    b = np.random.uniform(size=1)\n",
    "\n",
    "    if sgd_type == \"theory\":\n",
    "        w_list = [w]\n",
    "        b_list = [b]\n",
    "        for _ in range(m*epochs):\n",
    "            idx = np.random.randint(low=0,high=m-1,size=1)\n",
    "            sample = X[idx]\n",
    "            v_w, v_b = sub_gradient(w,b,lam,sample,y[idx])\n",
    "\n",
    "            w -= l_rate*v_w\n",
    "            b -= l_rate*v_b\n",
    "\n",
    "            w_list.append(w)\n",
    "            b_list.append(b)\n",
    "        w_mean = np.average(w_list)\n",
    "        b_mean = np.average(b_list)\n",
    "        return w_mean, b_mean\n",
    "    else:\n",
    "        for _ in range(epochs):\n",
    "            permutation = np.random.permutation(np.arange(m))\n",
    "            for i in permutation:\n",
    "                v_w, v_b = sub_gradient(w,b,lam,X[i],y[i])\n",
    "                w -= l_rate*v_w\n",
    "                b -= l_rate*v_b\n",
    "        return w, b"
   ],
   "metadata": {
    "collapsed": false
   }
  },
  {
   "cell_type": "code",
   "execution_count": 137,
   "outputs": [],
   "source": [
    "# Returns: Vw, Vb\n",
    "def sub_gradient(w,b,lam,x,y):\n",
    "    if 0 > 1-(y*np.inner(w,x) + b):\n",
    "        return 2*lam*w, 0\n",
    "    else:\n",
    "        v_w = -y*x + 2*lam*w\n",
    "        v_b = -y\n",
    "        return v_w, v_b"
   ],
   "metadata": {
    "collapsed": false
   }
  },
  {
   "cell_type": "code",
   "execution_count": 138,
   "outputs": [],
   "source": [
    "def calculate_error(w,bias,X,y):\n",
    "    y_pred = [np.sign(np.inner(x,w)+bias) for x in X]\n",
    "    print(f'y pred = {y_pred}')\n",
    "    print(f'y true = {y}')\n",
    "    return np.average(y_pred != y) # error-rate\n"
   ],
   "metadata": {
    "collapsed": false
   }
  },
  {
   "cell_type": "code",
   "execution_count": 139,
   "outputs": [],
   "source": [
    "from sklearn.datasets import load_iris\n",
    "X, y = load_iris(return_X_y=True)\n",
    "X = X[y != 0]\n",
    "y = y[y != 0]\n",
    "y[y==2] = -1\n",
    "X = X[:, 2:4]"
   ],
   "metadata": {
    "collapsed": false
   }
  },
  {
   "cell_type": "code",
   "execution_count": 140,
   "outputs": [
    {
     "name": "stdout",
     "output_type": "stream",
     "text": [
      "[0.54966248]\n",
      "[0.57055844]\n",
      "[0.41253368]\n",
      "[0.16147702]\n",
      "[0.94312587]\n"
     ]
    }
   ],
   "source": [
    "from sklearn.model_selection import train_test_split\n",
    "\n",
    "X_train, X_val, y_train, y_val = train_test_split(X, y, test_size=0.3, random_state=0)\n",
    "lam_list = np.array([0, 0.05, 0.1, 0.2, 0.5])\n",
    "\n",
    "models = [SGD(X=X_train, y=y_train, lam=l) for l in lam_list]\n"
   ],
   "metadata": {
    "collapsed": false
   }
  },
  {
   "cell_type": "code",
   "execution_count": 141,
   "outputs": [],
   "source": [
    "train_error_rates = [calculate_error(w=m[0],bias=m[1][0],X=X_train,y=y_train) for m in models]\n",
    "val_error_rates = [calculate_error(w=m[0],bias=m[1][0],X=X_val,y=y_val) for m in models]\n",
    "#plt.plot(train_error_rates,c='b')\n",
    "# plt.plot(val_error_rates,c='r')\n"
   ],
   "metadata": {
    "collapsed": false
   }
  }
 ],
 "metadata": {
  "kernelspec": {
   "display_name": "Python 3",
   "language": "python",
   "name": "python3"
  },
  "language_info": {
   "codemirror_mode": {
    "name": "ipython",
    "version": 2
   },
   "file_extension": ".py",
   "mimetype": "text/x-python",
   "name": "python",
   "nbconvert_exporter": "python",
   "pygments_lexer": "ipython2",
   "version": "2.7.6"
  }
 },
 "nbformat": 4,
 "nbformat_minor": 0
}
